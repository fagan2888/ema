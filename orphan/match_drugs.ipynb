{
 "cells": [
  {
   "cell_type": "code",
   "execution_count": 1,
   "metadata": {
    "collapsed": false,
    "deletable": true,
    "editable": true
   },
   "outputs": [
    {
     "data": {
      "text/html": [
       "<style>.container { width:100% !important; }</style>"
      ],
      "text/plain": [
       "<IPython.core.display.HTML object>"
      ]
     },
     "metadata": {},
     "output_type": "display_data"
    }
   ],
   "source": [
    "from IPython.core.display import display, HTML\n",
    "display(HTML(\"<style>.container { width:100% !important; }</style>\"))\n",
    "import os\n",
    "from functools import reduce\n",
    "from itertools import chain\n",
    "import pandas as pd\n",
    "import json\n",
    "from tqdm import tqdm\n",
    "from pprint import pprint\n",
    "from collections import defaultdict\n",
    "from ema.utils import get_names_synonyms_doid, get_doid_names, clean_text, contains_word\n",
    "import pickle\n",
    "from wikidataintegrator import wdi_helpers, wdi_core\n",
    "pd.set_option('display.max_colwidth', -1)"
   ]
  },
  {
   "cell_type": "code",
   "execution_count": 2,
   "metadata": {
    "collapsed": false,
    "deletable": true,
    "editable": true
   },
   "outputs": [],
   "source": [
    "source_url = 'http://ec.europa.eu/health/documents/community-register/html/alforphreg.htm'\n",
    "scrap_res = pd.read_html(source_url, attrs={'id': 'wmtable'}, header=0, index_col=None)"
   ]
  },
  {
   "cell_type": "code",
   "execution_count": 3,
   "metadata": {
    "collapsed": false,
    "deletable": true,
    "editable": true
   },
   "outputs": [
    {
     "data": {
      "text/html": [
       "<div>\n",
       "<table border=\"1\" class=\"dataframe\">\n",
       "  <thead>\n",
       "    <tr style=\"text-align: right;\">\n",
       "      <th></th>\n",
       "      <th>Product</th>\n",
       "      <th>EU Designation</th>\n",
       "      <th>Designated Orphan Indication</th>\n",
       "      <th>Sponsor</th>\n",
       "      <th>Designation date</th>\n",
       "      <th>TradenameEU Centralised NrImplemented on</th>\n",
       "    </tr>\n",
       "  </thead>\n",
       "  <tbody>\n",
       "    <tr>\n",
       "      <th>0</th>\n",
       "      <td>11-(2-pyrrolidin-1-yl-ethoxy)-14,19-dioxa-5,7,26-triaza-tetracyclo[19.3.1.1(2,6).1(8,12)] heptacosa-1(25),2(26),3,5,8,10,12(27),16,21,23-decaene</td>\n",
       "      <td>EU/3/10/767</td>\n",
       "      <td>Treatment of post-essential thrombocythaemia myelofibrosis</td>\n",
       "      <td>CTI Life Sciences Ltd</td>\n",
       "      <td>25/08/2010</td>\n",
       "      <td>NaN</td>\n",
       "    </tr>\n",
       "    <tr>\n",
       "      <th>1</th>\n",
       "      <td>11-(2-pyrrolidin-1-yl-ethoxy)-14,19-dioxa-5,7,26-triaza-tetracyclo[19.3.1.1(2,6).1(8,12)] heptacosa-1(25),2(26),3,5,8,10,12(27),16,21,23-decaene</td>\n",
       "      <td>EU/3/10/768</td>\n",
       "      <td>Treatment of primary myelofibrosis</td>\n",
       "      <td>CTI Life Sciences Ltd</td>\n",
       "      <td>25/08/2010</td>\n",
       "      <td>NaN</td>\n",
       "    </tr>\n",
       "    <tr>\n",
       "      <th>2</th>\n",
       "      <td>11-(2-pyrrolidin-1-yl-ethoxy)-14,19-dioxa-5,7,26-triaza-tetracyclo[19.3.1.1(2,6).1(8,12)] heptacosa-1(25),2(26),3,5,8,10,12(27),16,21,23-decaene</td>\n",
       "      <td>EU/3/10/769</td>\n",
       "      <td>Treatment of post-polycythaemia vera myelofibrosis</td>\n",
       "      <td>CTI Life Sciences Ltd</td>\n",
       "      <td>25/08/2010</td>\n",
       "      <td>NaN</td>\n",
       "    </tr>\n",
       "    <tr>\n",
       "      <th>3</th>\n",
       "      <td>11-(4-Dimethylamino-3-hydroxy-6-methyl-tetrahydro-pyran-2-yloxy)-2-ethyl-3,4,10-trihydroxy-3,5,6,8,10,12,14-heptamethyl-1-oxa-6-aza-cyclopentadecane-13,15-dione</td>\n",
       "      <td>EU/3/14/1239</td>\n",
       "      <td>Treatment of cystic fibrosis</td>\n",
       "      <td>Synovo GmbH</td>\n",
       "      <td>19/02/2014</td>\n",
       "      <td>NaN</td>\n",
       "    </tr>\n",
       "    <tr>\n",
       "      <th>4</th>\n",
       "      <td>1-(2,2-difluoro-1,3-benzodioxol-5-yl)-N-{1-[(2R)-2,3-dihydroxypropyl]-6-fluoro-2-(1-hydroxy-2-methylpropan-2-yl)-1H-indol-5-yl}cyclopropanecarboxamide</td>\n",
       "      <td>EU/3/14/1281</td>\n",
       "      <td>Treatment of cystic fibrosis</td>\n",
       "      <td>Vertex Pharmaceuticals (Europe) Limited</td>\n",
       "      <td>04/07/2014</td>\n",
       "      <td>NaN</td>\n",
       "    </tr>\n",
       "    <tr>\n",
       "      <th>5</th>\n",
       "      <td>1,2:5,6-Dianhydrogalactitol</td>\n",
       "      <td>EU/3/12/1093</td>\n",
       "      <td>Treatment of glioma</td>\n",
       "      <td>IDIS Ltd</td>\n",
       "      <td>24/01/2013</td>\n",
       "      <td>NaN</td>\n",
       "    </tr>\n",
       "    <tr>\n",
       "      <th>6</th>\n",
       "      <td>1,2-bis(methylsulphonyl)-1-(2-chloroethyl)-2-[(methylamino)carbonyl]hydrazine</td>\n",
       "      <td>EU/3/05/332</td>\n",
       "      <td>Treatment of acute myeloid leukaemia</td>\n",
       "      <td>Vion (UK) Limited, ℅ i3 Research</td>\n",
       "      <td>14/12/2005</td>\n",
       "      <td>NaN</td>\n",
       "    </tr>\n",
       "    <tr>\n",
       "      <th>7</th>\n",
       "      <td>1-[(2-Chloro-4-methoxyphenoxy)methyl]-4-[(2,6-dichlorophenoxy)methyl]benzene</td>\n",
       "      <td>EU/3/12/1021</td>\n",
       "      <td>Prevention of poliomyelitis in patients with immunodeficiencies deemed at risk</td>\n",
       "      <td>ViroDefense Ltd</td>\n",
       "      <td>17/07/2012</td>\n",
       "      <td>NaN</td>\n",
       "    </tr>\n",
       "    <tr>\n",
       "      <th>8</th>\n",
       "      <td>1-(2-isopropoxyethyl)-2-thioxo-1,2,3,5-tetrahydro-pyrrolo[3,2-d]pyrimidin-4-one</td>\n",
       "      <td>EU/3/14/1404</td>\n",
       "      <td>Treatment of multiple system atrophy</td>\n",
       "      <td>AstraZeneca AB</td>\n",
       "      <td>16/12/2014</td>\n",
       "      <td>NaN</td>\n",
       "    </tr>\n",
       "    <tr>\n",
       "      <th>9</th>\n",
       "      <td>1-{3-[3-(4-chlorophenyl)propoxy]propyl}piperidine, hydrochloride</td>\n",
       "      <td>EU/3/07/459</td>\n",
       "      <td>Treatment of narcolepsy</td>\n",
       "      <td>Bioprojet Pharma</td>\n",
       "      <td>10/07/2007</td>\n",
       "      <td>WakixEU/1/15/106804/04/2016</td>\n",
       "    </tr>\n",
       "  </tbody>\n",
       "</table>\n",
       "</div>"
      ],
      "text/plain": [
       "                                                                                                                                                            Product  \\\n",
       "0  11-(2-pyrrolidin-1-yl-ethoxy)-14,19-dioxa-5,7,26-triaza-tetracyclo[19.3.1.1(2,6).1(8,12)] heptacosa-1(25),2(26),3,5,8,10,12(27),16,21,23-decaene                   \n",
       "1  11-(2-pyrrolidin-1-yl-ethoxy)-14,19-dioxa-5,7,26-triaza-tetracyclo[19.3.1.1(2,6).1(8,12)] heptacosa-1(25),2(26),3,5,8,10,12(27),16,21,23-decaene                   \n",
       "2  11-(2-pyrrolidin-1-yl-ethoxy)-14,19-dioxa-5,7,26-triaza-tetracyclo[19.3.1.1(2,6).1(8,12)] heptacosa-1(25),2(26),3,5,8,10,12(27),16,21,23-decaene                   \n",
       "3  11-(4-Dimethylamino-3-hydroxy-6-methyl-tetrahydro-pyran-2-yloxy)-2-ethyl-3,4,10-trihydroxy-3,5,6,8,10,12,14-heptamethyl-1-oxa-6-aza-cyclopentadecane-13,15-dione   \n",
       "4  1-(2,2-difluoro-1,3-benzodioxol-5-yl)-N-{1-[(2R)-2,3-dihydroxypropyl]-6-fluoro-2-(1-hydroxy-2-methylpropan-2-yl)-1H-indol-5-yl}cyclopropanecarboxamide             \n",
       "5  1,2:5,6-Dianhydrogalactitol                                                                                                                                        \n",
       "6  1,2-bis(methylsulphonyl)-1-(2-chloroethyl)-2-[(methylamino)carbonyl]hydrazine                                                                                      \n",
       "7  1-[(2-Chloro-4-methoxyphenoxy)methyl]-4-[(2,6-dichlorophenoxy)methyl]benzene                                                                                       \n",
       "8  1-(2-isopropoxyethyl)-2-thioxo-1,2,3,5-tetrahydro-pyrrolo[3,2-d]pyrimidin-4-one                                                                                    \n",
       "9  1-{3-[3-(4-chlorophenyl)propoxy]propyl}piperidine, hydrochloride                                                                                                   \n",
       "\n",
       "  EU Designation  \\\n",
       "0  EU/3/10/767     \n",
       "1  EU/3/10/768     \n",
       "2  EU/3/10/769     \n",
       "3  EU/3/14/1239    \n",
       "4  EU/3/14/1281    \n",
       "5  EU/3/12/1093    \n",
       "6  EU/3/05/332     \n",
       "7  EU/3/12/1021    \n",
       "8  EU/3/14/1404    \n",
       "9  EU/3/07/459     \n",
       "\n",
       "                                                     Designated Orphan Indication  \\\n",
       "0  Treatment of post-essential thrombocythaemia myelofibrosis                       \n",
       "1  Treatment of primary myelofibrosis                                               \n",
       "2  Treatment of post-polycythaemia vera myelofibrosis                               \n",
       "3  Treatment of cystic fibrosis                                                     \n",
       "4  Treatment of cystic fibrosis                                                     \n",
       "5  Treatment of glioma                                                              \n",
       "6  Treatment of acute myeloid leukaemia                                             \n",
       "7  Prevention of poliomyelitis in patients with immunodeficiencies deemed at risk   \n",
       "8  Treatment of multiple system atrophy                                             \n",
       "9  Treatment of narcolepsy                                                          \n",
       "\n",
       "                                   Sponsor Designation date  \\\n",
       "0  CTI Life Sciences Ltd                    25/08/2010        \n",
       "1  CTI Life Sciences Ltd                    25/08/2010        \n",
       "2  CTI Life Sciences Ltd                    25/08/2010        \n",
       "3  Synovo GmbH                              19/02/2014        \n",
       "4  Vertex Pharmaceuticals (Europe) Limited  04/07/2014        \n",
       "5  IDIS Ltd                                 24/01/2013        \n",
       "6  Vion (UK) Limited, ℅ i3 Research         14/12/2005        \n",
       "7  ViroDefense Ltd                          17/07/2012        \n",
       "8  AstraZeneca AB                           16/12/2014        \n",
       "9  Bioprojet Pharma                         10/07/2007        \n",
       "\n",
       "  TradenameEU Centralised NrImplemented on  \n",
       "0  NaN                                      \n",
       "1  NaN                                      \n",
       "2  NaN                                      \n",
       "3  NaN                                      \n",
       "4  NaN                                      \n",
       "5  NaN                                      \n",
       "6  NaN                                      \n",
       "7  NaN                                      \n",
       "8  NaN                                      \n",
       "9  WakixEU/1/15/106804/04/2016              "
      ]
     },
     "execution_count": 3,
     "metadata": {},
     "output_type": "execute_result"
    }
   ],
   "source": [
    "eu_orphan_drugs = scrap_res[0] # get first table in table list\n",
    "eu_orphan_drugs = eu_orphan_drugs.loc[eu_orphan_drugs['Product'].notnull(), :]\n",
    "eu_orphan_drugs.reset_index(inplace=True)\n",
    "eu_orphan_drugs = eu_orphan_drugs.drop('index', 1)\n",
    "#eu_orphan_drugs.Product = eu_orphan_drugs.Product.str.lower()\n",
    "eu_orphan_drugs.head(10)"
   ]
  },
  {
   "cell_type": "code",
   "execution_count": 4,
   "metadata": {
    "collapsed": false,
    "deletable": true,
    "editable": true
   },
   "outputs": [
    {
     "data": {
      "text/plain": [
       "1433"
      ]
     },
     "execution_count": 4,
     "metadata": {},
     "output_type": "execute_result"
    }
   ],
   "source": [
    "len(eu_orphan_drugs)"
   ]
  },
  {
   "cell_type": "code",
   "execution_count": 5,
   "metadata": {
    "collapsed": false,
    "deletable": true,
    "editable": true
   },
   "outputs": [
    {
     "data": {
      "text/plain": [
       "1148"
      ]
     },
     "execution_count": 5,
     "metadata": {},
     "output_type": "execute_result"
    }
   ],
   "source": [
    "products = list(set(eu_orphan_drugs.Product))\n",
    "len(products)"
   ]
  },
  {
   "cell_type": "code",
   "execution_count": 10,
   "metadata": {
    "collapsed": true,
    "deletable": true,
    "editable": true
   },
   "outputs": [],
   "source": [
    "# use OPSIN to convert IUPAC names to InChI keys https://bitbucket.org/dan2097/opsin/\n",
    "with open('input.txt', 'w') as f:\n",
    "    for x in products:\n",
    "        f.write(x + '\\n')"
   ]
  },
  {
   "cell_type": "code",
   "execution_count": 11,
   "metadata": {
    "collapsed": false,
    "deletable": true,
    "editable": true
   },
   "outputs": [],
   "source": [
    "!java -jar data/opsin-2.2.0-jar-with-dependencies.jar -ostdinchikey input.txt output.txt 2> output.err"
   ]
  },
  {
   "cell_type": "code",
   "execution_count": 12,
   "metadata": {
    "collapsed": false,
    "deletable": true,
    "editable": true
   },
   "outputs": [],
   "source": [
    "prod_inchi = dict()\n",
    "with open('output.txt', 'r') as f:\n",
    "    for count, x in enumerate(f.readlines()):\n",
    "        ikey = x.strip()\n",
    "        if ikey:\n",
    "            prod_inchi[products[count]] = ikey"
   ]
  },
  {
   "cell_type": "code",
   "execution_count": 13,
   "metadata": {
    "collapsed": false,
    "deletable": true,
    "editable": true
   },
   "outputs": [
    {
     "data": {
      "text/plain": [
       "154"
      ]
     },
     "execution_count": 13,
     "metadata": {},
     "output_type": "execute_result"
    }
   ],
   "source": [
    "len(prod_inchi)"
   ]
  },
  {
   "cell_type": "code",
   "execution_count": 14,
   "metadata": {
    "collapsed": false,
    "deletable": true,
    "editable": true
   },
   "outputs": [
    {
     "data": {
      "text/plain": [
       "[('Adeno-associated viral vector serotype 8 containing the human glucose-6-phosphatase gene',\n",
       "  'POMVPJBWDDJCMP-RUKDTIIFSA-M'),\n",
       " ('Autologous CD34+ cells transduced with lentiviral vector encoding the human beta globin gene',\n",
       "  'OLDWOVJAXRWCGT-FBHGDYMESA-N'),\n",
       " ('3-methoxy-pregnenolone', 'MDSQOJYHHZBZKA-GBXCKJPGSA-N'),\n",
       " ('2-((2-ethyl-6-(4-(2-(3-hydroxyazetidin-1-yl)-2-oxoethyl)-piperazin-1-yl)-8-methylimidazo[1,2-alpha]pyridin-3-yl)-(methyl)amino)-4-(4-fluorophenyl)-thiazole-5-carbonitrile',\n",
       "  'SUKJFIGYRHOWBL-UHFFFAOYSA-N'),\n",
       " ('Tideglusib', 'PVCULFYROUOVGJ-UHFFFAOYSA-N'),\n",
       " ('Budesonide', 'WUBBRNOQWQTFEX-UHFFFAOYSA-N'),\n",
       " ('Recombinant human tissue non-specific alkaline phosphatase - Fc - deca-aspartate fusion protein',\n",
       "  'RCQXSQPPHJPGOF-UHFFFAOYSA-N'),\n",
       " ('Autologous T cells transduced with lentiviral vector containing a chimeric antigen receptor directed against CD19',\n",
       "  'PXHANKVTFWSDSG-QLOBERJESA-N'),\n",
       " ('1-deoxygalactonojirimycin hydrochloride', 'TUWMKPVJGGWGNL-UHFFFAOYSA-N'),\n",
       " ('Pegylated proline-interferon alpha-2b', 'SLVOKEOPLJCHCQ-SEYXRHQNSA-O')]"
      ]
     },
     "execution_count": 14,
     "metadata": {},
     "output_type": "execute_result"
    }
   ],
   "source": [
    "list(prod_inchi.items())[:10]"
   ]
  },
  {
   "cell_type": "code",
   "execution_count": 15,
   "metadata": {
    "collapsed": true,
    "deletable": true,
    "editable": true
   },
   "outputs": [],
   "source": [
    "inchi_wd = wdi_helpers.id_mapper(\"P235\")\n",
    "wd_inchi = {v:k for k,v in inchi_wd.items()}"
   ]
  },
  {
   "cell_type": "code",
   "execution_count": 16,
   "metadata": {
    "collapsed": false,
    "deletable": true,
    "editable": true
   },
   "outputs": [
    {
     "data": {
      "text/plain": [
       "97"
      ]
     },
     "execution_count": 16,
     "metadata": {},
     "output_type": "execute_result"
    }
   ],
   "source": [
    "# map inchikey back to wdid\n",
    "prod_wdid = {prod: inchi_wd[inchi] for prod,inchi in prod_inchi.items() if inchi in inchi_wd}\n",
    "len(prod_wdid)"
   ]
  },
  {
   "cell_type": "code",
   "execution_count": 17,
   "metadata": {
    "collapsed": false,
    "deletable": true,
    "editable": true
   },
   "outputs": [],
   "source": [
    "def get_drug_qid_map():\n",
    "    # https://github.com/sebotic/wikidata_notebooks/blob/master/ema_annotations.ipynb\n",
    "    drug_query = '''\n",
    "    SELECT ?compound ?label ?who_name (GROUP_CONCAT(DISTINCT(?alias); separator=\"|\") AS ?aliases) WHERE {{\n",
    "      {{?compound wdt:P31 wd:Q11173 .}} UNION  # chemical compound\n",
    "      {{?compound wdt:P31 wd:Q12140 .}} UNION  # pharmaceutical drug\n",
    "      {{?compound wdt:P31 wd:Q79529 .}} UNION  # chemical substance\n",
    "      {{?compound wdt:P2275 ?who_name FILTER (LANG(?who_name) = \"en\") .}}\n",
    "\n",
    "      OPTIONAL {{\n",
    "        ?compound rdfs:label ?label FILTER (LANG(?label) = \"en\") .\n",
    "      }}\n",
    "      OPTIONAL {{\n",
    "        ?compound skos:altLabel ?alias FILTER (LANG(?alias) = \"en\") .\n",
    "      }}\n",
    "    }}\n",
    "    GROUP BY ?compound ?label ?who_name ?aliases\n",
    "    OFFSET {0}\n",
    "    LIMIT 100000\n",
    "    '''\n",
    "    drug_qid_map = {}\n",
    "    cc = 0\n",
    "    while True:\n",
    "        print(cc)\n",
    "        r = wdi_core.WDItemEngine.execute_sparql_query(query=drug_query.format(100000 * cc))\n",
    "        print(cc)\n",
    "        cc += 1\n",
    "        if len(r['results']['bindings']) == 0:\n",
    "            break\n",
    "        for x in r['results']['bindings']:\n",
    "            qid = x['compound']['value']\n",
    "\n",
    "            if 'who_name' in x:\n",
    "                drug_qid_map.update({x['who_name']['value'].lower(): qid})\n",
    "\n",
    "            if 'label' in x:\n",
    "                drug_qid_map.update({x['label']['value'].lower(): qid})\n",
    "\n",
    "            if 'aliases' in x:\n",
    "                drug_qid_map.update({y.lower(): qid for y in x['aliases']['value'].split('|')})\n",
    "\n",
    "    print('Drug to QID map has {} entries!'.format(len(drug_qid_map)))\n",
    "    drug_qid_map = {k: v.replace(\"http://www.wikidata.org/entity/\", \"\") for k, v in drug_qid_map.items()}\n",
    "    with open(os.path.join(DATA_DIR, \"drug_qid_map.pkl\"), 'wb') as f:\n",
    "        pickle.dump(drug_qid_map, f)"
   ]
  },
  {
   "cell_type": "code",
   "execution_count": 19,
   "metadata": {
    "collapsed": false,
    "deletable": true,
    "editable": true
   },
   "outputs": [],
   "source": [
    "drug_qid_map = pickle.load(open(\"../data/drug_qid_map.pkl\", 'rb'))\n",
    "#drug_qid_map = get_drug_qid_map()\n",
    "wdid_search_name = {x:drug_qid_map[x.lower()] for x in products if x.lower() in drug_qid_map}"
   ]
  },
  {
   "cell_type": "code",
   "execution_count": 21,
   "metadata": {
    "collapsed": false,
    "deletable": true,
    "editable": true
   },
   "outputs": [
    {
     "data": {
      "text/plain": [
       "310"
      ]
     },
     "execution_count": 21,
     "metadata": {},
     "output_type": "execute_result"
    }
   ],
   "source": [
    "len(wdid_search_name)"
   ]
  },
  {
   "cell_type": "code",
   "execution_count": 22,
   "metadata": {
    "collapsed": true,
    "deletable": true,
    "editable": true
   },
   "outputs": [],
   "source": [
    "prod_wdid.update(wdid_search_name)"
   ]
  },
  {
   "cell_type": "code",
   "execution_count": 23,
   "metadata": {
    "collapsed": false,
    "deletable": true,
    "editable": true
   },
   "outputs": [],
   "source": [
    "eu_orphan_drugs['drug_qid'] = eu_orphan_drugs.Product.apply(prod_wdid.get)"
   ]
  },
  {
   "cell_type": "code",
   "execution_count": 24,
   "metadata": {
    "collapsed": false,
    "deletable": true,
    "editable": true
   },
   "outputs": [
    {
     "data": {
      "text/plain": [
       "Product                                     1433\n",
       "EU Designation                              1433\n",
       "Designated Orphan Indication                1433\n",
       "Sponsor                                     1433\n",
       "Designation date                            1433\n",
       "TradenameEU Centralised NrImplemented on    113 \n",
       "drug_qid                                    536 \n",
       "dtype: int64"
      ]
     },
     "execution_count": 24,
     "metadata": {},
     "output_type": "execute_result"
    }
   ],
   "source": [
    "eu_orphan_drugs.count()"
   ]
  },
  {
   "cell_type": "code",
   "execution_count": 25,
   "metadata": {
    "collapsed": false,
    "deletable": true,
    "editable": true
   },
   "outputs": [],
   "source": [
    "eu_orphan_drugs.to_csv(\"eu_orphan.csv\")"
   ]
  }
 ],
 "metadata": {
  "kernelspec": {
   "display_name": "Python 3",
   "language": "python",
   "name": "python3"
  },
  "language_info": {
   "codemirror_mode": {
    "name": "ipython",
    "version": 3
   },
   "file_extension": ".py",
   "mimetype": "text/x-python",
   "name": "python",
   "nbconvert_exporter": "python",
   "pygments_lexer": "ipython3",
   "version": "3.5.2"
  }
 },
 "nbformat": 4,
 "nbformat_minor": 2
}
